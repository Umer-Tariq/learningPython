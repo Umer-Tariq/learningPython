{
 "cells": [
  {
   "cell_type": "code",
   "execution_count": null,
   "id": "90d0fe12",
   "metadata": {},
   "outputs": [],
   "source": [
    "BFS and DFS"
   ]
  },
  {
   "cell_type": "code",
   "execution_count": 5,
   "id": "9d398066",
   "metadata": {},
   "outputs": [
    {
     "name": "stdout",
     "output_type": "stream",
     "text": [
      "A\n",
      "G\n",
      "B\n",
      "F\n",
      "C\n",
      "H\n",
      "D\n",
      "E\n",
      "\n",
      "A\n",
      "G\n",
      "B\n",
      "D\n",
      "F\n",
      "E\n",
      "C\n",
      "H\n"
     ]
    }
   ],
   "source": [
    "\n",
    "def dfs(adj_list, start_node, visited):\n",
    "    print(start_node)\n",
    "    visited[start_node] = 1\n",
    "    for node in adj_list[start_node]:\n",
    "        if visited[node] == 0:\n",
    "            dfs(adj_list, node, visited)\n",
    "\n",
    "def bfs(adj_list, start_node, visited):\n",
    "    q = []\n",
    "    q.append(start_node)\n",
    "    print(start_node)\n",
    "    visited[start_node] = 1\n",
    "    while len(q) != 0:\n",
    "        node = q.pop(0)\n",
    "        for item in adj_list[node]:\n",
    "            if visited[item] == 0:\n",
    "                q.append(item)\n",
    "                print(item)\n",
    "                visited[item] = 1\n",
    "    \n",
    "adj_list = {\"E\" : ['G'], 'A' : ['G', 'B', 'D'], 'B' : ['F', 'E'], 'C' : ['H'], 'D' : [], 'F' : ['C', 'D'], 'G' : [], 'H' : []}\n",
    "visited = {\"E\" : 0, 'A' : 0, 'B' : 0, 'C' : 0, 'D' : 0, 'F' : 0, 'G' : 0, 'H' : 0}\n",
    "dfs(adj_list, 'A', visited.copy())\n",
    "print('')\n",
    "bfs(adj_list, 'A', visited.copy())\n"
   ]
  },
  {
   "cell_type": "markdown",
   "id": "39bf423d",
   "metadata": {},
   "source": [
    "Uniform Cost Search"
   ]
  },
  {
   "cell_type": "code",
   "execution_count": 19,
   "id": "fb4668f1",
   "metadata": {},
   "outputs": [
    {
     "name": "stdout",
     "output_type": "stream",
     "text": [
      "S\n",
      "B\n",
      "C\n",
      "A\n",
      "F\n",
      "G\n"
     ]
    }
   ],
   "source": [
    "edges = [['S', 'A', 5], ['S', 'B', 2], ['S', 'C', 4], ['A', 'E', 4], ['A', 'D', 9], ['B', 'G', 6], ['C', 'F', 2],\n",
    "         ['D', 'H', 7], ['E', 'G', 6], ['F', 'G', 1]]\n",
    "cost = [['S', 0], ['A', -1], ['B', -1], ['C', -1], ['D', -1], ['E', -1], ['F', -1], ['G', -1], ['H', -1]]\n",
    "\n",
    "def getCost(cost, node):\n",
    "    for item in cost:\n",
    "        if item[0] == node:\n",
    "            return item[1]\n",
    "\n",
    "def updateCost(cost, node, new_cost):\n",
    "    for item in cost:\n",
    "        if item[0] == node:\n",
    "            item[1] = new_cost\n",
    "\n",
    "def getPathCost():\n",
    "    for item in cost:\n",
    "        node = item[0]\n",
    "        for edge in edges:\n",
    "            if edge[0] == node:\n",
    "                 if getCost(cost, edge[1]) != -1:\n",
    "                        if getCost(cost, edge[1]) > item[1] + edge[2]:\n",
    "                            updateCost(cost, edge[1], item[1] + edge[2])\n",
    "                 else:\n",
    "                    updateCost(cost, edge[1], item[1] + edge[2])\n",
    "getPathCost()\n",
    "Goal = 'G'\n",
    "def ucs(cost):\n",
    "    while True:\n",
    "        cost = sorted(cost, key = lambda x : x[1])\n",
    "        node = cost.pop(0)\n",
    "        print(node[0])\n",
    "        if node[0] == Goal:\n",
    "            break\n",
    "ucs(cost)"
   ]
  },
  {
   "cell_type": "markdown",
   "id": "947b939f",
   "metadata": {},
   "source": [
    "Depth limited search and iterative deeping search"
   ]
  },
  {
   "cell_type": "code",
   "execution_count": 28,
   "id": "e1152825",
   "metadata": {},
   "outputs": [
    {
     "name": "stdout",
     "output_type": "stream",
     "text": [
      "For depth:  0\n",
      "A\n",
      "For depth:  1\n",
      "A\n",
      "B\n",
      "C\n",
      "D\n",
      "For depth:  2\n",
      "A\n",
      "B\n",
      "C\n",
      "F\n",
      "E\n",
      "D\n",
      "G\n"
     ]
    }
   ],
   "source": [
    "def dls(adj_list, start_node, visited, depth, maxDepth):\n",
    "    if depth <= maxDepth:\n",
    "        print(start_node)\n",
    "        visited[start_node] = 1\n",
    "        for node in adj_list[start_node]:\n",
    "            if visited[node] == 0:\n",
    "                dls(adj_list, node, visited, depth + 1, maxDepth)\n",
    "def ids(adj_list, start_node, visited, maxDepth):\n",
    "    for i in range(maxDepth + 1):\n",
    "        print('For depth: ', i)\n",
    "        dls(adj_list, start_node, visited.copy(), 0, i)\n",
    "                \n",
    "adj_list = {\"E\" : ['H', 'B'], 'A' : ['B', 'C', 'D'], 'B' : ['A', 'C', 'F', 'E'], 'C' : ['F', 'B', 'A'], 'D' : ['A', 'G'], 'F' : ['C', 'B'], 'G' : ['D'], 'H' : ['E']}\n",
    "visited = {\"E\" : 0, 'A' : 0, 'B' : 0, 'C' : 0, 'D' : 0, 'F' : 0, 'G' : 0, 'H' : 0}\n",
    "maxDepth = 2\n",
    "start_node = 'A'\n",
    "dls(adj_list, 'A', visited.copy(), 0, maxDepth)\n",
    "ids(adj_list, start_node, visited.copy(), maxDepth)"
   ]
  },
  {
   "cell_type": "markdown",
   "id": "87cdb502",
   "metadata": {},
   "source": [
    "A* search"
   ]
  },
  {
   "cell_type": "code",
   "execution_count": 46,
   "id": "96e1d2bb",
   "metadata": {},
   "outputs": [
    {
     "name": "stdout",
     "output_type": "stream",
     "text": [
      "[['S', 0], ['A', 1], ['B', 3], ['C', 2], ['D', 5], ['G', 6]]\n",
      "[['S', 5], ['A', 4], ['B', 7], ['C', 4], ['D', 11], ['G', 6]]\n",
      "S\n",
      "A\n",
      "C\n",
      "G\n",
      "Cost:  19\n"
     ]
    }
   ],
   "source": [
    "def getCost(cost, node):\n",
    "    for item in cost:\n",
    "        if item[0] == node:\n",
    "            return item[1]\n",
    "\n",
    "def updateCost(cost, node, new_cost):\n",
    "    for item in cost:\n",
    "        if item[0] == node:\n",
    "            item[1] = new_cost\n",
    "def getPathCost(edges, cost):\n",
    "    for item in cost:\n",
    "        node = item[0]\n",
    "        for edge in edges:\n",
    "            if edge[0] == node:\n",
    "                c = getCost(cost, edge[1])\n",
    "                if c != -1:\n",
    "                    if c > item[1] + edge[2]:\n",
    "                        updateCost(cost, edge[1], item[1] + edge[2])\n",
    "                else:\n",
    "                    updateCost(cost, edge[1], item[1] + edge[2])\n",
    "\n",
    "def get_total_cost(pathCost, heuristic):\n",
    "    total_cost = []\n",
    "    for item in pathCost:\n",
    "        total = item[1] + heuristic[item[0]]\n",
    "        total_cost.append([item[0], total])\n",
    "    return total_cost\n",
    "def A_star(total_cost, Goal):\n",
    "    cost = 0\n",
    "    selected_node = total_cost.pop(0)\n",
    "    print(selected_node[0])\n",
    "    cost += selected_node[1]\n",
    "    if selected_node[0] == Goal:\n",
    "        return\n",
    "    while True:\n",
    "        total_cost = sorted(total_cost, key = lambda x : x[1])\n",
    "        selected_node = total_cost.pop(0)\n",
    "        print(selected_node[0])\n",
    "        cost += selected_node[1]\n",
    "        if selected_node[0] == Goal:\n",
    "            break\n",
    "    return cost\n",
    "edges = [['S', 'A', 1], ['S', 'G', 10], ['A', 'C', 1],['A', 'B', 2] ,['B', 'D', 5], ['C', 'D', 3], ['C', 'G', 4]]\n",
    "cost = [['S', 0], ['A', -1], ['B', -1], ['C', -1], ['D', -1], ['G', -1]]\n",
    "heuristic = {'S' : 5, 'A' : 3, 'B' : 4, 'C' : 2, 'D' : 6, 'G' : 0 }\n",
    "getPathCost(edges, cost)\n",
    "print(cost)\n",
    "total_cost = get_total_cost(cost, heuristic)\n",
    "print(total_cost)\n",
    "print('Cost: ', A_star(total_cost, Goal))"
   ]
  },
  {
   "cell_type": "markdown",
   "id": "74405283",
   "metadata": {},
   "source": [
    "Greedy Search"
   ]
  },
  {
   "cell_type": "code",
   "execution_count": 55,
   "id": "58901029",
   "metadata": {},
   "outputs": [
    {
     "name": "stdout",
     "output_type": "stream",
     "text": [
      "B\n",
      "F\n",
      "G\n",
      "G\n",
      "No way ahead\n",
      "None\n"
     ]
    }
   ],
   "source": [
    "def greedy(heuristic, edges, prevNode, goal):\n",
    "    cost = 0\n",
    "    i = 0\n",
    "    itr = 1000\n",
    "    while i < itr:\n",
    "        mini = 1000000\n",
    "        for edge in edges:\n",
    "            if edge[0] == prevNode:\n",
    "                if heuristic[edge[1]] < mini:\n",
    "                    mini = heuristic[edge[1]]\n",
    "                    nextNode = edge[1]\n",
    "                    edgeCost = edge[2]\n",
    "        print(nextNode)\n",
    "        cost += edgeCost\n",
    "        if prevNode == nextNode:\n",
    "            print('No way ahead')\n",
    "            return\n",
    "        if nextNode == goal:\n",
    "            print(\"Goal Found\")\n",
    "            return cost\n",
    "        prevNode = nextNode\n",
    "        i += 1\n",
    "    print('Stuck in a loop')\n",
    "    \n",
    "            \n",
    "    \n",
    "startNode = 'S'\n",
    "goal = 'H'\n",
    "heuristic = {'S' : 13, 'A' : 12, 'B' : 4, 'C' : 7, 'D' : 3, 'E' : 8, 'F' : 2, 'H': 4, 'I' : 9, 'G' : 0}\n",
    "edges = [['S', 'A', 3], ['S', 'B', 2], ['A', 'C', 4], ['A', 'D', 1], ['B', 'E', 3], ['B', 'F', 1], ['E', 'H', 5], \n",
    "         ['F', 'I', 2], ['F', 'G', 3]]\n",
    "print(greedy(heuristic, edges, startNode, goal))"
   ]
  }
 ],
 "metadata": {
  "kernelspec": {
   "display_name": "Python 3 (ipykernel)",
   "language": "python",
   "name": "python3"
  },
  "language_info": {
   "codemirror_mode": {
    "name": "ipython",
    "version": 3
   },
   "file_extension": ".py",
   "mimetype": "text/x-python",
   "name": "python",
   "nbconvert_exporter": "python",
   "pygments_lexer": "ipython3",
   "version": "3.9.13"
  }
 },
 "nbformat": 4,
 "nbformat_minor": 5
}
