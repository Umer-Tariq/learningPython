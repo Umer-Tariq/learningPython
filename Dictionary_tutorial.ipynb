{
 "cells": [
  {
   "cell_type": "code",
   "execution_count": null,
   "id": "5dde6f01",
   "metadata": {},
   "outputs": [],
   "source": []
  },
  {
   "cell_type": "markdown",
   "id": "e823d3e8",
   "metadata": {},
   "source": [
    "Python Dictionaries Tutorial"
   ]
  },
  {
   "cell_type": "code",
   "execution_count": null,
   "id": "b2a86acd",
   "metadata": {},
   "outputs": [],
   "source": []
  },
  {
   "cell_type": "code",
   "execution_count": 25,
   "id": "cc535008",
   "metadata": {},
   "outputs": [
    {
     "name": "stdout",
     "output_type": "stream",
     "text": [
      "{'Name': ['Umer', 'Sarosh', 'Usman']}\n",
      "{'Name': ['Umer', 'Sarosh', 'Usman'], 'Age': [21, 21, 21]}\n",
      "Success\n",
      "dict_keys(['Name', 'Age'])\n",
      "dict_values([['Umer', 'Sarosh', 'Usman'], [21, 21, 21]])\n",
      "len function returns the number of keys in the dictionary\n",
      "in keyword can be used with dictionaries as well\n",
      "{'Name': ['Umer', 'Sarosh', 'Usman']}\n"
     ]
    }
   ],
   "source": [
    "#initialize\n",
    "d = dict()\n",
    "#add item\n",
    "d[\"Name\"] = [\"Umer\", \"Sarosh\", \"Usman\"]\n",
    "print(d)\n",
    "d.update({\"Age\" : [21, 21, 21]})\n",
    "print(d)\n",
    "#d.items() returns the key value pairs as tuples\n",
    "for key, val in d.items():\n",
    "    if key == 'Age':\n",
    "        l = val\n",
    "        if 22 not in l:\n",
    "            print(\"Success\")\n",
    "#d.keys()\n",
    "l = d.keys()\n",
    "print(l)\n",
    "#d.values\n",
    "l2 = d.values()\n",
    "print(l2)\n",
    "if len(l) == len(d):\n",
    "    print('len function returns the number of keys in the dictionary')\n",
    "    \n",
    "if 'Name' in d:\n",
    "    print('in keyword can be used with dictionaries as well')\n",
    "    \n",
    "#removing items from the dictionary\n",
    "d.pop('Age')\n",
    "print(d)"
   ]
  }
 ],
 "metadata": {
  "kernelspec": {
   "display_name": "Python 3 (ipykernel)",
   "language": "python",
   "name": "python3"
  },
  "language_info": {
   "codemirror_mode": {
    "name": "ipython",
    "version": 3
   },
   "file_extension": ".py",
   "mimetype": "text/x-python",
   "name": "python",
   "nbconvert_exporter": "python",
   "pygments_lexer": "ipython3",
   "version": "3.9.13"
  }
 },
 "nbformat": 4,
 "nbformat_minor": 5
}
