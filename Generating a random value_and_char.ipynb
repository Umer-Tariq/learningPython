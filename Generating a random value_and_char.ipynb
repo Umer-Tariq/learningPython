{
 "cells": [
  {
   "cell_type": "markdown",
   "id": "5c188cc6",
   "metadata": {},
   "source": [
    "Generating random values in python"
   ]
  },
  {
   "cell_type": "code",
   "execution_count": 1,
   "id": "303621fd",
   "metadata": {},
   "outputs": [],
   "source": [
    "import random"
   ]
  },
  {
   "cell_type": "code",
   "execution_count": 6,
   "id": "88d78ea2",
   "metadata": {},
   "outputs": [
    {
     "name": "stdout",
     "output_type": "stream",
     "text": [
      "5\n",
      "0.39638763063204485\n"
     ]
    }
   ],
   "source": [
    "num = random.randint(0, 10)\n",
    "print(num)\n",
    "num_float = random.uniform(0, 1)\n",
    "print(num_float)"
   ]
  },
  {
   "cell_type": "code",
   "execution_count": 37,
   "id": "81ba00a5",
   "metadata": {},
   "outputs": [
    {
     "name": "stdout",
     "output_type": "stream",
     "text": [
      "abcdefghijklmnopqrstuvwxyzABCDEFGHIJKLMNOPQRSTUVWXYZ0123456789!\"#$%&'()*+,-./:;<=>?@[\\]^_`{|}~\n",
      "S\n"
     ]
    }
   ],
   "source": [
    "import random\n",
    "import string\n",
    "\n",
    "# Define the pool of characters from which to generate\n",
    "characters = string.ascii_letters + string.digits + string.punctuation  # uppercase letters, lowercase letters, digits, and special characters\n",
    "# Generate a random character\n",
    "random_character = random.choice(characters)\n",
    "print(random_character)\n"
   ]
  },
  {
   "cell_type": "code",
   "execution_count": 38,
   "id": "6c0fa667",
   "metadata": {},
   "outputs": [],
   "source": []
  },
  {
   "cell_type": "code",
   "execution_count": 41,
   "id": "18d853b3",
   "metadata": {},
   "outputs": [
    {
     "name": "stdout",
     "output_type": "stream",
     "text": [
      "`\n"
     ]
    }
   ],
   "source": []
  }
 ],
 "metadata": {
  "kernelspec": {
   "display_name": "Python 3 (ipykernel)",
   "language": "python",
   "name": "python3"
  },
  "language_info": {
   "codemirror_mode": {
    "name": "ipython",
    "version": 3
   },
   "file_extension": ".py",
   "mimetype": "text/x-python",
   "name": "python",
   "nbconvert_exporter": "python",
   "pygments_lexer": "ipython3",
   "version": "3.9.13"
  }
 },
 "nbformat": 4,
 "nbformat_minor": 5
}
