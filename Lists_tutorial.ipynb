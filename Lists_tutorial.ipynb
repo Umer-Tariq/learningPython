{
  "nbformat": 4,
  "nbformat_minor": 0,
  "metadata": {
    "colab": {
      "provenance": []
    },
    "kernelspec": {
      "name": "python3",
      "display_name": "Python 3"
    },
    "language_info": {
      "name": "python"
    }
  },
  "cells": [
    {
      "cell_type": "markdown",
      "source": [
        "**List Methods in Python:**"
      ],
      "metadata": {
        "id": "FZDkg3qcM_kL"
      }
    },
    {
      "cell_type": "markdown",
      "source": [
        "1.Extend"
      ],
      "metadata": {
        "id": "rsf6UhnaNHe5"
      }
    },
    {
      "cell_type": "code",
      "source": [
        "l = [1, 2, 3, 4, 5, 6, 7, 8, 9, 10]\n",
        "l2 = [11, 12, 13, 14]\n",
        "l.extend(l2)\n",
        "print(l)"
      ],
      "metadata": {
        "colab": {
          "base_uri": "https://localhost:8080/"
        },
        "id": "mtU8sJ4BNKf-",
        "outputId": "f91c0bc5-93fe-4c37-de2b-710b84e91a55"
      },
      "execution_count": 3,
      "outputs": [
        {
          "output_type": "stream",
          "name": "stdout",
          "text": [
            "[1, 2, 3, 4, 5, 6, 7, 8, 9, 10, 11, 12, 13, 14]\n"
          ]
        }
      ]
    },
    {
      "cell_type": "markdown",
      "source": [
        "2. Insert"
      ],
      "metadata": {
        "id": "J6PJgzLvN8qV"
      }
    },
    {
      "cell_type": "code",
      "source": [
        "L = ['Umer', 'Mahad', 'Usman']\n",
        "L.insert(-1, 'Sarosh')\n",
        "print(L)\n",
        "L.insert(1000, 'Hammad')\n",
        "print(L)\n"
      ],
      "metadata": {
        "colab": {
          "base_uri": "https://localhost:8080/"
        },
        "id": "V4VJmn2ROAnT",
        "outputId": "77ca696e-7e74-4477-db5e-7f44320e0a53"
      },
      "execution_count": 12,
      "outputs": [
        {
          "output_type": "stream",
          "name": "stdout",
          "text": [
            "['Umer', 'Mahad', 'Sarosh', 'Usman']\n",
            "['Umer', 'Mahad', 'Sarosh', 'Usman', 'Hammad']\n"
          ]
        }
      ]
    },
    {
      "cell_type": "markdown",
      "source": [
        "3.Count"
      ],
      "metadata": {
        "id": "l7xG1ZyAO8vz"
      }
    },
    {
      "cell_type": "code",
      "source": [
        "L = [1, 2, 3, 4, 5, 1,2 ,3 ,1, 1]\n",
        "print(L.count(1))\n",
        "if L.count(8) == 0:\n",
        "  print('8 is not present in the list')"
      ],
      "metadata": {
        "colab": {
          "base_uri": "https://localhost:8080/"
        },
        "id": "2CjsH1JDO-tR",
        "outputId": "46be9fb0-538e-4fe7-9f86-4e68c12513d2"
      },
      "execution_count": 15,
      "outputs": [
        {
          "output_type": "stream",
          "name": "stdout",
          "text": [
            "4\n",
            "8 is not present in the list\n"
          ]
        }
      ]
    },
    {
      "cell_type": "markdown",
      "source": [
        "4.sort"
      ],
      "metadata": {
        "id": "kEohYNCGPiNP"
      }
    },
    {
      "cell_type": "code",
      "source": [
        "\n",
        "list_of_tuples = [('Umer', 21), ('Sarosh', 33), ('Usman', 43)]\n",
        "list_of_tuples.sort(key = lambda x:x[0])\n",
        "print(list_of_tuples)\n",
        "sorted_list = sorted(list_of_tuples, key = lambda x : x[1], reverse = True)\n",
        "print(sorted_list)"
      ],
      "metadata": {
        "colab": {
          "base_uri": "https://localhost:8080/"
        },
        "id": "-8o8i5MNPkck",
        "outputId": "e472d5eb-3c15-4b4a-e1b3-302820fb4b0c"
      },
      "execution_count": 29,
      "outputs": [
        {
          "output_type": "stream",
          "name": "stdout",
          "text": [
            "1 2 3  \n",
            "4 5 6  \n",
            "7 8 9  \n",
            "['My name is Umer Tariq', ' I am a programmer', '']\n"
          ]
        }
      ]
    },
    {
      "cell_type": "markdown",
      "source": [
        "5. List of lists"
      ],
      "metadata": {
        "id": "r-0aRG5DSlxw"
      }
    },
    {
      "cell_type": "code",
      "source": [
        "list_of_lists = [[1, 2, 3], [4, 5, 6], [7, 8, 9]]\n",
        "for i in range(len(list_of_lists)):\n",
        "  for j in range(len(list_of_lists[0])):\n",
        "    print(list_of_lists[i][j], end = ' ')\n",
        "  print(' ')"
      ],
      "metadata": {
        "id": "GTj9SpK1Sn3V"
      },
      "execution_count": null,
      "outputs": []
    },
    {
      "cell_type": "markdown",
      "source": [
        "6.Remove\n",
        "\n",
        "remove(): This method removes the first occurrence of a specified element from the list.\n",
        "\n",
        "pop(): This method removes the element at a specified index (default is the last element) and returns it.\n",
        "\n",
        "del: This statement removes an element at a specified index or a slice of elements from the list."
      ],
      "metadata": {
        "id": "PHZ_Wa97SokW"
      }
    },
    {
      "cell_type": "code",
      "source": [
        "L = [1, 2, 3, 4, 5, 1,2 ,3 ,1, 1]\n",
        "print(L)\n",
        "L.remove(2)\n",
        "print(L)\n",
        "L.pop()\n",
        "print(L)\n",
        "L.pop(0)\n",
        "print(L)\n",
        "del L[3:]\n",
        "print(L)\n"
      ],
      "metadata": {
        "colab": {
          "base_uri": "https://localhost:8080/"
        },
        "id": "79Oibc_WS2Hn",
        "outputId": "8320ce73-b553-4e14-c544-913ca309ff53"
      },
      "execution_count": 38,
      "outputs": [
        {
          "output_type": "stream",
          "name": "stdout",
          "text": [
            "[1, 2, 3, 4, 5, 1, 2, 3, 1, 1]\n",
            "[1, 3, 4, 5, 1, 2, 3, 1, 1]\n",
            "[1, 3, 4, 5, 1, 2, 3, 1]\n",
            "[3, 4, 5, 1, 2, 3, 1]\n",
            "[3, 4, 5]\n"
          ]
        }
      ]
    },
    {
      "cell_type": "markdown",
      "source": [
        "7.Copy"
      ],
      "metadata": {
        "id": "5b_t26AKVQt8"
      }
    },
    {
      "cell_type": "code",
      "source": [
        "L_copy = L.copy()\n",
        "print(L_copy)\n",
        "L_copy.pop()\n",
        "print(L)\n",
        "print(L_copy)\n"
      ],
      "metadata": {
        "colab": {
          "base_uri": "https://localhost:8080/"
        },
        "id": "FE8B1r1QVccV",
        "outputId": "e29eb1b4-0478-47e8-df3c-1ef1de4c43fd"
      },
      "execution_count": 40,
      "outputs": [
        {
          "output_type": "stream",
          "name": "stdout",
          "text": [
            "[3, 4, 5]\n",
            "[3, 4, 5]\n",
            "[3, 4]\n"
          ]
        }
      ]
    },
    {
      "cell_type": "markdown",
      "source": [
        "8.Index"
      ],
      "metadata": {
        "id": "vizsT5zaV8vd"
      }
    },
    {
      "cell_type": "code",
      "source": [
        "L = [1, 2, 3, 4, 5, 1,2 ,3 ,1, 1]\n",
        "print(L.index(2))"
      ],
      "metadata": {
        "colab": {
          "base_uri": "https://localhost:8080/"
        },
        "id": "-Pq-qhw9V-A6",
        "outputId": "7ab620d7-a1d1-43c6-e19a-00d0dc36e014"
      },
      "execution_count": 41,
      "outputs": [
        {
          "output_type": "stream",
          "name": "stdout",
          "text": [
            "1\n"
          ]
        }
      ]
    },
    {
      "cell_type": "markdown",
      "source": [
        "9.Enumerate"
      ],
      "metadata": {
        "id": "NCOjC1c9W-l3"
      }
    },
    {
      "cell_type": "code",
      "source": [
        "list_of_names = ['Umer', 'Usman', 'Sarosh']\n",
        "for i, name in enumerate(list_of_names):\n",
        "  print(i, ' ', name)\n"
      ],
      "metadata": {
        "colab": {
          "base_uri": "https://localhost:8080/"
        },
        "id": "y3B3xRoeXAEP",
        "outputId": "ad7f3cc3-8a32-474b-e4ab-b846e8320f45"
      },
      "execution_count": 43,
      "outputs": [
        {
          "output_type": "stream",
          "name": "stdout",
          "text": [
            "0   Umer\n",
            "1   Usman\n",
            "2   Sarosh\n"
          ]
        }
      ]
    },
    {
      "cell_type": "markdown",
      "source": [
        "10.Reverse"
      ],
      "metadata": {
        "id": "EdY46lk-XiQm"
      }
    },
    {
      "cell_type": "code",
      "source": [
        "list_of_names.reverse()\n",
        "print(list_of_names)"
      ],
      "metadata": {
        "colab": {
          "base_uri": "https://localhost:8080/"
        },
        "id": "6fKYDZxVXlDT",
        "outputId": "afc25b00-f5e3-44ac-a134-d6a041901da1"
      },
      "execution_count": 44,
      "outputs": [
        {
          "output_type": "stream",
          "name": "stdout",
          "text": [
            "['Sarosh', 'Usman', 'Umer']\n"
          ]
        }
      ]
    },
    {
      "cell_type": "markdown",
      "source": [],
      "metadata": {
        "id": "x2Q7-n6SXVd8"
      }
    }
  ]
}