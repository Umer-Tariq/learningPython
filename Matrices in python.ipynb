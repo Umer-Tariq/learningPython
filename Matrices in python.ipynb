{
 "cells": [
  {
   "cell_type": "markdown",
   "id": "c4647c55",
   "metadata": {},
   "source": [
    "Working with matrices"
   ]
  },
  {
   "cell_type": "code",
   "execution_count": 2,
   "id": "422ef4a9",
   "metadata": {},
   "outputs": [
    {
     "name": "stdout",
     "output_type": "stream",
     "text": [
      "1 2 3 \n",
      "4 5 6 \n",
      "7 8 9 \n"
     ]
    }
   ],
   "source": [
    "#printing a matrix\n",
    "matrix = [\n",
    "    [1, 2, 3],\n",
    "    [4, 5, 6],\n",
    "    [7, 8, 9],\n",
    "]\n",
    "for row in matrix:\n",
    "    for element in row:\n",
    "        print(element, end=' ')\n",
    "    print('')"
   ]
  },
  {
   "cell_type": "code",
   "execution_count": 8,
   "id": "22fdff07",
   "metadata": {},
   "outputs": [
    {
     "name": "stdout",
     "output_type": "stream",
     "text": [
      "Enter the number of rows2\n",
      "Enter the number of cols2\n",
      "Enter the value of elements: 2\n",
      "Enter the value of elements: 2\n",
      "Enter the value of elements: 2\n",
      "Enter the value of elements: 2\n",
      "2 2 \n",
      "2 2 \n"
     ]
    }
   ],
   "source": [
    "#taking a matrix as an input\n",
    "row = int(input('Enter the number of rows'))\n",
    "col = int(input('Enter the number of cols'))\n",
    "matrix = []\n",
    "for i in range(row):\n",
    "    temp = []\n",
    "    for j in range(col):\n",
    "        val = int(input('Enter the value of elements: '))\n",
    "        temp.append(val)\n",
    "    matrix.append(temp)\n",
    "for row in matrix:\n",
    "    for element in row:\n",
    "        print(element, end=' ')\n",
    "    print('')"
   ]
  }
 ],
 "metadata": {
  "kernelspec": {
   "display_name": "Python 3 (ipykernel)",
   "language": "python",
   "name": "python3"
  },
  "language_info": {
   "codemirror_mode": {
    "name": "ipython",
    "version": 3
   },
   "file_extension": ".py",
   "mimetype": "text/x-python",
   "name": "python",
   "nbconvert_exporter": "python",
   "pygments_lexer": "ipython3",
   "version": "3.9.13"
  }
 },
 "nbformat": 4,
 "nbformat_minor": 5
}
