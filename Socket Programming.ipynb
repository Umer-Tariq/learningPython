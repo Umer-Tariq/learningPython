{
 "cells": [
  {
   "cell_type": "markdown",
   "id": "a5a4ccb7",
   "metadata": {},
   "source": [
    "Socket Programming"
   ]
  },
  {
   "cell_type": "code",
   "execution_count": 1,
   "id": "2dddba88",
   "metadata": {},
   "outputs": [],
   "source": [
    "import socket"
   ]
  },
  {
   "cell_type": "markdown",
   "id": "1e9f13d9",
   "metadata": {},
   "source": []
  },
  {
   "cell_type": "code",
   "execution_count": 3,
   "id": "e6c55298",
   "metadata": {},
   "outputs": [
    {
     "name": "stdout",
     "output_type": "stream",
     "text": [
      "DESKTOP-88EBKJT\n",
      "192.168.31.1\n"
     ]
    }
   ],
   "source": [
    "name = socket.gethostname()\n",
    "print(name)\n",
    "adrr = socket.gethostbyname(name)\n",
    "print(adrr)"
   ]
  },
  {
   "cell_type": "code",
   "execution_count": 7,
   "id": "4003798b",
   "metadata": {},
   "outputs": [
    {
     "name": "stdout",
     "output_type": "stream",
     "text": [
      "[('mct04s04-in-f4.1e100.net', [], ['192.178.24.228']), ('mct01s19-in-f14.1e100.net', [], ['142.250.185.46'])]\n",
      "['192.178.24.228', '142.250.185.46']\n"
     ]
    }
   ],
   "source": [
    "name = ['www.google.com', 'www.youtube.com']\n",
    "addr = []\n",
    "name2 = []\n",
    "for i in name:\n",
    "    addr.append(socket.gethostbyname(i))\n",
    "for adr in addr:\n",
    "    name2.append(socket.gethostbyaddr(adr))\n",
    "print(name2)\n",
    "print(addr)"
   ]
  },
  {
   "cell_type": "code",
   "execution_count": null,
   "id": "9ca0c6ef",
   "metadata": {},
   "outputs": [],
   "source": []
  },
  {
   "cell_type": "code",
   "execution_count": 8,
   "id": "ac572cdc",
   "metadata": {},
   "outputs": [
    {
     "name": "stdout",
     "output_type": "stream",
     "text": [
      "smtp\n",
      "http\n"
     ]
    }
   ],
   "source": [
    "def get_service_by_name(potocol_name, port):\n",
    "    for i in port:\n",
    "        print(socket.getservbyport(i, protocol_name))\n",
    "port = [25, 80]\n",
    "protocol_name = 'tcp'\n",
    "get_service_by_name(protocol_name, port)"
   ]
  },
  {
   "cell_type": "code",
   "execution_count": null,
   "id": "2260807b",
   "metadata": {},
   "outputs": [],
   "source": []
  },
  {
   "cell_type": "code",
   "execution_count": null,
   "id": "c7fdf7aa",
   "metadata": {},
   "outputs": [],
   "source": [
    "from socket import *\n",
    "import time\n",
    "\n",
    "st = time.time()\n",
    "\n",
    "target = input('Enter the name of the target host: ')\n",
    "ip = gethostbyname(target)\n",
    "for i in range(50, 500):\n",
    "    s = socket(IF_INET, SOCK_STREAM)\n",
    "    conn = s.connect_ex((ip, i)\n",
    "    if conn == 0:\n",
    "        print(i)\n",
    "    s.close()\n",
    "print(time.time()-st)\n",
    "    "
   ]
  },
  {
   "cell_type": "code",
   "execution_count": 3,
   "id": "19d5949a",
   "metadata": {},
   "outputs": [
    {
     "name": "stdout",
     "output_type": "stream",
     "text": [
      "443\n"
     ]
    }
   ],
   "source": [
    "from socket import *\n",
    "import time\n",
    "st = time.time()\n",
    "ip = gethostbyname('www.google.com')\n",
    "for i in range(400, 445):\n",
    "    s = socket(AF_INET, SOCK_STREAM)\n",
    "    conn = s.connect_ex((ip, i))\n",
    "    if conn == 0:\n",
    "        print(i)\n",
    "    s.close()\n",
    "\n",
    "    "
   ]
  }
 ],
 "metadata": {
  "kernelspec": {
   "display_name": "Python 3 (ipykernel)",
   "language": "python",
   "name": "python3"
  },
  "language_info": {
   "codemirror_mode": {
    "name": "ipython",
    "version": 3
   },
   "file_extension": ".py",
   "mimetype": "text/x-python",
   "name": "python",
   "nbconvert_exporter": "python",
   "pygments_lexer": "ipython3",
   "version": "3.9.13"
  }
 },
 "nbformat": 4,
 "nbformat_minor": 5
}
