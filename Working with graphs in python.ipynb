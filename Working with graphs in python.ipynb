{
 "cells": [
  {
   "cell_type": "markdown",
   "id": "9c4391b6",
   "metadata": {},
   "source": [
    "Working with Graphs in python"
   ]
  },
  {
   "cell_type": "code",
   "execution_count": 3,
   "id": "cb602703",
   "metadata": {},
   "outputs": [
    {
     "name": "stdout",
     "output_type": "stream",
     "text": [
      "A is a neighbour of B\n"
     ]
    }
   ],
   "source": [
    "#getting the neighbours \n",
    "def get_neighbours(node, adj_list, neighbour):\n",
    "    if neighbour in adj_list[node]:\n",
    "        return True\n",
    "    return False\n",
    "    \n",
    "adj_list = {'A' : ['B', 'C', 'E'], 'B' : ['A','C'], 'C': ['A', 'B', 'D'], 'D' : ['C','E'], 'E' : ['A', 'D']}\n",
    "\n",
    "if get_neighbours('A', adj_list, 'B'):\n",
    "    print('A is a neighbour of B')\n"
   ]
  },
  {
   "cell_type": "code",
   "execution_count": 4,
   "id": "03eff013",
   "metadata": {},
   "outputs": [
    {
     "name": "stdout",
     "output_type": "stream",
     "text": [
      "{'A': ['B', 'C', 'E', 'D'], 'B': ['A', 'C'], 'C': ['A', 'B', 'D'], 'D': ['C', 'E'], 'E': ['A', 'D']}\n"
     ]
    }
   ],
   "source": [
    "#adding a neighbour\n",
    "def add_neighbour(adj_list, node, neighbour):\n",
    "    adj_list[node].append(neighbour)\n",
    "\n",
    "add_neighbour(adj_list, 'A', 'D')\n",
    "print(adj_list)"
   ]
  },
  {
   "cell_type": "code",
   "execution_count": null,
   "id": "0d954762",
   "metadata": {},
   "outputs": [],
   "source": []
  }
 ],
 "metadata": {
  "kernelspec": {
   "display_name": "Python 3 (ipykernel)",
   "language": "python",
   "name": "python3"
  },
  "language_info": {
   "codemirror_mode": {
    "name": "ipython",
    "version": 3
   },
   "file_extension": ".py",
   "mimetype": "text/x-python",
   "name": "python",
   "nbconvert_exporter": "python",
   "pygments_lexer": "ipython3",
   "version": "3.9.13"
  }
 },
 "nbformat": 4,
 "nbformat_minor": 5
}
