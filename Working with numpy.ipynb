{
 "cells": [
  {
   "cell_type": "code",
   "execution_count": 1,
   "id": "d19ee708",
   "metadata": {},
   "outputs": [],
   "source": [
    "import numpy as np"
   ]
  },
  {
   "cell_type": "code",
   "execution_count": 7,
   "id": "8b193a54",
   "metadata": {},
   "outputs": [
    {
     "name": "stdout",
     "output_type": "stream",
     "text": [
      "5.0\n",
      "5.0\n",
      "3.1622776601683795\n",
      "10.0\n",
      "1\n",
      "(11,)\n"
     ]
    }
   ],
   "source": [
    "arr = np.array([0, 1, 2, 3, 4, 5, 6, 7, 8, 9, 10])\n",
    "print(np.mean(arr))\n",
    "print(np.median(arr))\n",
    "print(np.std(arr))\n",
    "print(np.var(arr))\n",
    "print(arr.ndim)\n",
    "print(arr.shape)\n",
    "\n"
   ]
  },
  {
   "cell_type": "code",
   "execution_count": 14,
   "id": "4eb5a075",
   "metadata": {},
   "outputs": [
    {
     "name": "stdout",
     "output_type": "stream",
     "text": [
      "[[1 2 3]\n",
      " [4 5 6]\n",
      " [7 8 9]]\n",
      "[[1 2 3]]\n",
      "[[4 5 6]]\n",
      "[[7 8 9]]\n"
     ]
    }
   ],
   "source": [
    "mat = np.matrix('1, 2, 3; 4, 5, 6; 7, 8, 9')\n",
    "print(mat)\n",
    "for row in mat:\n",
    "    for element in row:\n",
    "        print(element)"
   ]
  },
  {
   "cell_type": "code",
   "execution_count": 16,
   "id": "05088d04",
   "metadata": {},
   "outputs": [
    {
     "name": "stdout",
     "output_type": "stream",
     "text": [
      "[[ 2  4  6]\n",
      " [ 8 10 12]\n",
      " [14 16 18]]\n",
      "[[ 30  36  42]\n",
      " [ 66  81  96]\n",
      " [102 126 150]]\n"
     ]
    }
   ],
   "source": [
    "matA = np.matrix('1, 2, 3; 4, 5, 6; 7, 8, 9')\n",
    "matB = np.matrix('1, 2, 3; 4, 5, 6; 7, 8, 9')\n",
    "matC = matA + matB\n",
    "print(matC)\n",
    "matD = matA * matB\n",
    "print(matD)"
   ]
  },
  {
   "cell_type": "code",
   "execution_count": 17,
   "id": "f95867a0",
   "metadata": {},
   "outputs": [
    {
     "name": "stdout",
     "output_type": "stream",
     "text": [
      "3.141592653589793\n",
      "2.718281828459045\n",
      "0.7071067811865476\n",
      "0.7071067811865476\n",
      "0.9999999999999999\n"
     ]
    }
   ],
   "source": [
    "print(np.pi)\n",
    "print(np.e)\n",
    "angle = np.pi/4\n",
    "print(np.sin(angle))\n",
    "print(np.cos(angle))\n",
    "print(np.tan(angle))\n"
   ]
  },
  {
   "cell_type": "code",
   "execution_count": 20,
   "id": "691a9f23",
   "metadata": {},
   "outputs": [
    {
     "name": "stdout",
     "output_type": "stream",
     "text": [
      "2\n",
      "[3 7]\n",
      "1\n",
      "2\n",
      "3\n",
      "4\n",
      "5\n",
      "6\n",
      "7\n",
      "8\n",
      "[[1 3]\n",
      " [5 7]]\n"
     ]
    }
   ],
   "source": [
    "x = np.array([[1, 2, 3, 4], [5, 6, 7 ,8]])\n",
    "print(x[0, 1])\n",
    "print(x[:, 2])\n",
    "for row in x:\n",
    "    for y in row:\n",
    "        print(y)\n",
    "print(x[:,::2])\n"
   ]
  },
  {
   "cell_type": "code",
   "execution_count": 27,
   "id": "8e32afd2",
   "metadata": {},
   "outputs": [
    {
     "name": "stdout",
     "output_type": "stream",
     "text": [
      "[[ 1  2  3  4]\n",
      " [ 9 10 11 12]]\n",
      "int32\n",
      "3\n",
      "3\n",
      "<class 'numpy.ndarray'>\n"
     ]
    }
   ],
   "source": [
    "y = np.array([[[1, 2, 3, 4], [5, 6, 7, 8]], [[9, 10, 11, 12], [13, 14, 15, 16]]])\n",
    "print(y[:,0,:])\n",
    "print(y.dtype)\n",
    "print(y.ndim)\n",
    "print(len(y.shape))\n",
    "print(type(y))\n",
    "d_0 = np.array(42)"
   ]
  },
  {
   "cell_type": "code",
   "execution_count": 29,
   "id": "83832e47",
   "metadata": {},
   "outputs": [
    {
     "name": "stdout",
     "output_type": "stream",
     "text": [
      "[5 6 7 8]\n",
      "[1 2 3 4]\n",
      "[1 3]\n",
      "[6 7 8]\n"
     ]
    }
   ],
   "source": [
    "z = np.array([1, 2, 3, 4, 5, 6, 7, 8])\n",
    "print(z[4:])\n",
    "print(z[:4])\n",
    "print(z[:4:2])\n",
    "print(z[-3:])"
   ]
  }
 ],
 "metadata": {
  "kernelspec": {
   "display_name": "Python 3 (ipykernel)",
   "language": "python",
   "name": "python3"
  },
  "language_info": {
   "codemirror_mode": {
    "name": "ipython",
    "version": 3
   },
   "file_extension": ".py",
   "mimetype": "text/x-python",
   "name": "python",
   "nbconvert_exporter": "python",
   "pygments_lexer": "ipython3",
   "version": "3.9.13"
  }
 },
 "nbformat": 4,
 "nbformat_minor": 5
}
